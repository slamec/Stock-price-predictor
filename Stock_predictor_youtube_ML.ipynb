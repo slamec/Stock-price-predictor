{
 "metadata": {
  "language_info": {
   "codemirror_mode": {
    "name": "ipython",
    "version": 3
   },
   "file_extension": ".py",
   "mimetype": "text/x-python",
   "name": "python",
   "nbconvert_exporter": "python",
   "pygments_lexer": "ipython3",
   "version": "3.7.4-final"
  },
  "orig_nbformat": 2,
  "kernelspec": {
   "name": "python3",
   "display_name": "Python 3.7.4 64-bit",
   "metadata": {
    "interpreter": {
     "hash": "dfd657a410e78b64abaa49b6b05f62b708117f500d34ee2e84bacf17d30f74c3"
    }
   }
  }
 },
 "nbformat": 4,
 "nbformat_minor": 2,
 "cells": [
  {
   "cell_type": "code",
   "execution_count": null,
   "metadata": {},
   "outputs": [],
   "source": [
    "#https://www.youtube.com/watch?v=QIUxPv5PJOY\n",
    "#LSTM program (Long Short Term Memory)"
   ]
  },
  {
   "cell_type": "code",
   "execution_count": 17,
   "metadata": {},
   "outputs": [],
   "source": [
    "import math\n",
    "import pandas_datareader as web\n",
    "import numpy as np \n",
    "import pandas as pd \n",
    "from sklearn.preprocessing import MinMaxScaler\n",
    "from keras.models import Sequential \n",
    "from keras.layers import Dense, LSTM\n",
    "import matplotlib.pyplot as plt\n",
    "plt.style.use(\"fivethirtyeight\")"
   ]
  },
  {
   "cell_type": "code",
   "execution_count": 18,
   "metadata": {},
   "outputs": [
    {
     "output_type": "execute_result",
     "data": {
      "text/plain": [
       "                  High         Low        Open       Close       Volume  \\\n",
       "Date                                                                      \n",
       "2016-01-04   26.342501   25.500000   25.652500   26.337500  270597600.0   \n",
       "2016-01-05   26.462500   25.602501   26.437500   25.677500  223164000.0   \n",
       "2016-01-06   25.592501   24.967501   25.139999   25.174999  273829600.0   \n",
       "2016-01-07   25.032499   24.107500   24.670000   24.112499  324377600.0   \n",
       "2016-01-08   24.777500   24.190001   24.637501   24.240000  283192000.0   \n",
       "...                ...         ...         ...         ...          ...   \n",
       "2020-12-24  133.460007  131.100006  131.320007  131.970001   54930100.0   \n",
       "2020-12-28  137.339996  133.509995  133.990005  136.690002  124486200.0   \n",
       "2020-12-29  138.789993  134.339996  138.050003  134.869995  121047300.0   \n",
       "2020-12-30  135.990005  133.399994  135.580002  133.720001   96452100.0   \n",
       "2020-12-31  134.740005  131.720001  134.080002  132.690002   99116600.0   \n",
       "\n",
       "             Adj Close  \n",
       "Date                    \n",
       "2016-01-04   24.364536  \n",
       "2016-01-05   23.753977  \n",
       "2016-01-06   23.289116  \n",
       "2016-01-07   22.306208  \n",
       "2016-01-08   22.424154  \n",
       "...                ...  \n",
       "2020-12-24  131.773087  \n",
       "2020-12-28  136.486053  \n",
       "2020-12-29  134.668762  \n",
       "2020-12-30  133.520477  \n",
       "2020-12-31  132.492020  \n",
       "\n",
       "[1259 rows x 6 columns]"
      ],
      "text/html": "<div>\n<style scoped>\n    .dataframe tbody tr th:only-of-type {\n        vertical-align: middle;\n    }\n\n    .dataframe tbody tr th {\n        vertical-align: top;\n    }\n\n    .dataframe thead th {\n        text-align: right;\n    }\n</style>\n<table border=\"1\" class=\"dataframe\">\n  <thead>\n    <tr style=\"text-align: right;\">\n      <th></th>\n      <th>High</th>\n      <th>Low</th>\n      <th>Open</th>\n      <th>Close</th>\n      <th>Volume</th>\n      <th>Adj Close</th>\n    </tr>\n    <tr>\n      <th>Date</th>\n      <th></th>\n      <th></th>\n      <th></th>\n      <th></th>\n      <th></th>\n      <th></th>\n    </tr>\n  </thead>\n  <tbody>\n    <tr>\n      <th>2016-01-04</th>\n      <td>26.342501</td>\n      <td>25.500000</td>\n      <td>25.652500</td>\n      <td>26.337500</td>\n      <td>270597600.0</td>\n      <td>24.364536</td>\n    </tr>\n    <tr>\n      <th>2016-01-05</th>\n      <td>26.462500</td>\n      <td>25.602501</td>\n      <td>26.437500</td>\n      <td>25.677500</td>\n      <td>223164000.0</td>\n      <td>23.753977</td>\n    </tr>\n    <tr>\n      <th>2016-01-06</th>\n      <td>25.592501</td>\n      <td>24.967501</td>\n      <td>25.139999</td>\n      <td>25.174999</td>\n      <td>273829600.0</td>\n      <td>23.289116</td>\n    </tr>\n    <tr>\n      <th>2016-01-07</th>\n      <td>25.032499</td>\n      <td>24.107500</td>\n      <td>24.670000</td>\n      <td>24.112499</td>\n      <td>324377600.0</td>\n      <td>22.306208</td>\n    </tr>\n    <tr>\n      <th>2016-01-08</th>\n      <td>24.777500</td>\n      <td>24.190001</td>\n      <td>24.637501</td>\n      <td>24.240000</td>\n      <td>283192000.0</td>\n      <td>22.424154</td>\n    </tr>\n    <tr>\n      <th>...</th>\n      <td>...</td>\n      <td>...</td>\n      <td>...</td>\n      <td>...</td>\n      <td>...</td>\n      <td>...</td>\n    </tr>\n    <tr>\n      <th>2020-12-24</th>\n      <td>133.460007</td>\n      <td>131.100006</td>\n      <td>131.320007</td>\n      <td>131.970001</td>\n      <td>54930100.0</td>\n      <td>131.773087</td>\n    </tr>\n    <tr>\n      <th>2020-12-28</th>\n      <td>137.339996</td>\n      <td>133.509995</td>\n      <td>133.990005</td>\n      <td>136.690002</td>\n      <td>124486200.0</td>\n      <td>136.486053</td>\n    </tr>\n    <tr>\n      <th>2020-12-29</th>\n      <td>138.789993</td>\n      <td>134.339996</td>\n      <td>138.050003</td>\n      <td>134.869995</td>\n      <td>121047300.0</td>\n      <td>134.668762</td>\n    </tr>\n    <tr>\n      <th>2020-12-30</th>\n      <td>135.990005</td>\n      <td>133.399994</td>\n      <td>135.580002</td>\n      <td>133.720001</td>\n      <td>96452100.0</td>\n      <td>133.520477</td>\n    </tr>\n    <tr>\n      <th>2020-12-31</th>\n      <td>134.740005</td>\n      <td>131.720001</td>\n      <td>134.080002</td>\n      <td>132.690002</td>\n      <td>99116600.0</td>\n      <td>132.492020</td>\n    </tr>\n  </tbody>\n</table>\n<p>1259 rows × 6 columns</p>\n</div>"
     },
     "metadata": {},
     "execution_count": 18
    }
   ],
   "source": [
    "#get the stock quote \n",
    "df = web.DataReader(\"AAPL\", data_source= \"yahoo\", start= \"2016-01-01\", end = \"2020-12-31\")\n",
    "df"
   ]
  },
  {
   "cell_type": "code",
   "execution_count": 19,
   "metadata": {},
   "outputs": [
    {
     "output_type": "execute_result",
     "data": {
      "text/plain": [
       "<bound method NDFrame.get of                   High         Low        Open       Close       Volume  \\\n",
       "Date                                                                      \n",
       "2016-01-04   26.342501   25.500000   25.652500   26.337500  270597600.0   \n",
       "2016-01-05   26.462500   25.602501   26.437500   25.677500  223164000.0   \n",
       "2016-01-06   25.592501   24.967501   25.139999   25.174999  273829600.0   \n",
       "2016-01-07   25.032499   24.107500   24.670000   24.112499  324377600.0   \n",
       "2016-01-08   24.777500   24.190001   24.637501   24.240000  283192000.0   \n",
       "...                ...         ...         ...         ...          ...   \n",
       "2020-12-24  133.460007  131.100006  131.320007  131.970001   54930100.0   \n",
       "2020-12-28  137.339996  133.509995  133.990005  136.690002  124486200.0   \n",
       "2020-12-29  138.789993  134.339996  138.050003  134.869995  121047300.0   \n",
       "2020-12-30  135.990005  133.399994  135.580002  133.720001   96452100.0   \n",
       "2020-12-31  134.740005  131.720001  134.080002  132.690002   99116600.0   \n",
       "\n",
       "             Adj Close  \n",
       "Date                    \n",
       "2016-01-04   24.364536  \n",
       "2016-01-05   23.753977  \n",
       "2016-01-06   23.289116  \n",
       "2016-01-07   22.306208  \n",
       "2016-01-08   22.424154  \n",
       "...                ...  \n",
       "2020-12-24  131.773087  \n",
       "2020-12-28  136.486053  \n",
       "2020-12-29  134.668762  \n",
       "2020-12-30  133.520477  \n",
       "2020-12-31  132.492020  \n",
       "\n",
       "[1259 rows x 6 columns]>"
      ]
     },
     "metadata": {},
     "execution_count": 19
    }
   ],
   "source": [
    "#get the number of colums and rows in the dataset\n",
    "df.shape\n"
   ]
  },
  {
   "cell_type": "code",
   "execution_count": null,
   "metadata": {},
   "outputs": [],
   "source": []
  }
 ]
}